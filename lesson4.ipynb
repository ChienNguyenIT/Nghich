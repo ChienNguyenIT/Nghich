{
 "cells": [
  {
   "attachments": {},
   "cell_type": "markdown",
   "metadata": {},
   "source": [
    "1.kiểu chuỗi"
   ]
  },
  {
   "cell_type": "code",
   "execution_count": 2,
   "metadata": {},
   "outputs": [
    {
     "data": {
      "text/plain": [
       "''"
      ]
     },
     "execution_count": 2,
     "metadata": {},
     "output_type": "execute_result"
    }
   ],
   "source": [
    "# nháy đơn \n",
    "''\n",
    "#nháy kép\n",
    "\"\"\n",
    "''''''\n",
    "\"\"\"\"\"\""
   ]
  },
  {
   "cell_type": "code",
   "execution_count": 8,
   "metadata": {},
   "outputs": [
    {
     "name": "stdout",
     "output_type": "stream",
     "text": [
      "chiennguyen\n",
      "<class 'str'>\n",
      "abcadad\n"
     ]
    }
   ],
   "source": [
    "s = \"chiennguyen\"\n",
    "print(s)\n",
    "print(type(s))\n",
    "print(\"abcd\\bada"
   ]
  },
  {
   "cell_type": "code",
   "execution_count": 7,
   "metadata": {},
   "outputs": [
    {
     "name": "stdout",
     "output_type": "stream",
     "text": [
      "nguyenlani.com\n",
      "free ducation\n",
      "share tobe bettter\n"
     ]
    }
   ],
   "source": [
    "'''đây là chú thích đầu file py còn muốn ghi gì thì cứ ghi nó giống comment'''\n",
    "nguyenlani = \"nguyenlani.com\\nfree ducation\\nshare tobe bettter\"\n",
    "print(nguyenlani)"
   ]
  }
 ],
 "metadata": {
  "kernelspec": {
   "display_name": "Python 3",
   "language": "python",
   "name": "python3"
  },
  "language_info": {
   "codemirror_mode": {
    "name": "ipython",
    "version": 3
   },
   "file_extension": ".py",
   "mimetype": "text/x-python",
   "name": "python",
   "nbconvert_exporter": "python",
   "pygments_lexer": "ipython3",
   "version": "3.10.9"
  },
  "orig_nbformat": 4
 },
 "nbformat": 4,
 "nbformat_minor": 2
}
