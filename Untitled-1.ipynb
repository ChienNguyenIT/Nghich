{
 "cells": [
  {
   "cell_type": "code",
   "execution_count": 1,
   "metadata": {},
   "outputs": [
    {
     "name": "stdout",
     "output_type": "stream",
     "text": [
      "hello world\n"
     ]
    }
   ],
   "source": [
    "print(\"hello world\")"
   ]
  },
  {
   "attachments": {},
   "cell_type": "markdown",
   "metadata": {},
   "source": [
    "Kiểu dữ liệu"
   ]
  },
  {
   "cell_type": "code",
   "execution_count": 4,
   "metadata": {},
   "outputs": [
    {
     "name": "stdout",
     "output_type": "stream",
     "text": [
      "chào bạn! tên tôi là nguyễn đắc chiến \n",
      "tôi là sinh viên năm: 22\n"
     ]
    }
   ],
   "source": [
    "k = 12312\n",
    "b = 454.45\n",
    "c = 5 > 6 + 3\n",
    "a = 'ha noi ve dem'\n",
    "type(k)\n",
    "type(b)\n",
    "type(a)\n",
    "type(c)\n",
    "a = str(input(\"mời nhập tên: \"))\n",
    "b = int(input(\"mời nhập tuổi: \"))\n",
    "print(\"chào bạn! tên tôi là\",a)\n",
    "print(\"tuổi của tôi là :\",b)\n",
    "# quy tắc đặt biến tên biến chỉ chứa chữ cái số hoặc dấu \"_\"\n",
    "# Không được bắt đầu bằng số\n",
    "# Không được trùng với các từ khóa của Python\n",
    "# Tên biến trong Python có phân biệt chữ in hoa và in thường\n",
    "print "
   ]
  },
  {
   "cell_type": "code",
   "execution_count": null,
   "metadata": {},
   "outputs": [],
   "source": []
  },
  {
   "cell_type": "code",
   "execution_count": 1,
   "metadata": {},
   "outputs": [
    {
     "name": "stdout",
     "output_type": "stream",
     "text": [
      "4.2426\n"
     ]
    }
   ],
   "source": [
    "import math \n",
    "print(round(math.sqrt(18) , 4))"
   ]
  },
  {
   "cell_type": "code",
   "execution_count": 5,
   "metadata": {},
   "outputs": [
    {
     "name": "stdout",
     "output_type": "stream",
     "text": [
      "<class 'int'>\n"
     ]
    }
   ],
   "source": [
    "#gán giá trị 4. với 4 là kiểu số nguyên (intergers)\n",
    "a = 4\n",
    "print(type(a))"
   ]
  },
  {
   "cell_type": "code",
   "execution_count": 57,
   "metadata": {},
   "outputs": [
    {
     "name": "stdout",
     "output_type": "stream",
     "text": [
      "hello\n",
      "hello world\n",
      "hello  world one more\n",
      "hello world68\n",
      "Hello---Python---Course\n",
      "hello*** python*** world\n",
      "line 1\n",
      "line 1\t\tline 2\tline 3\n"
     ]
    }
   ],
   "source": [
    "print('hello')\n",
    "print('hello world')\n",
    "print('hello',' world','one more')\n",
    "print('hello','world'+ str(68))\n",
    "print('Hello', 'Python', 'Course', sep='---')\n",
    "print('hello', ' python',' world', sep='***')\n",
    "print('line 1')\n",
    "print('line 1' , end='\\t\\t')\n",
    "print('line 2' , end='\\t')\n",
    "print('line 3' , end='\\n')\n"
   ]
  },
  {
   "cell_type": "code",
   "execution_count": 34,
   "metadata": {},
   "outputs": [
    {
     "name": "stdout",
     "output_type": "stream",
     "text": [
      "hi tuan, how are you?\n",
      "hi khánh, how are you?\n",
      "chào tuấn, bạn khỏe không?\n",
      "hello, my name is alice and i an 25 years old\n",
      "hello, my name is chiennguyen and i an 25 years old\n"
     ]
    }
   ],
   "source": [
    "# nhúng giá trị vào trong xâu \n",
    "print('hi tuan, how are you?')\n",
    "print('hi khánh, how are you?')\n",
    "# nhúng các tên này vào xâu\n",
    "print('chào %s, bạn khỏe không?'%'tuấn')\n",
    "greeting ='hello, my name is %s and i an %d years old'\n",
    "print(greeting%(\"alice\", 25))\n",
    "hanoivedem = 'hello, my name is %s and i an %u years old'\n",
    "print(hanoivedem%('chiennguyen',25))"
   ]
  },
  {
   "cell_type": "code",
   "execution_count": 51,
   "metadata": {},
   "outputs": [
    {
     "name": "stdout",
     "output_type": "stream",
     "text": [
      "hello chien nguyen \n",
      "tổng của a và b là  5110\n",
      "hiệu của a và b là : -64908.89\n"
     ]
    }
   ],
   "source": [
    "#nhập hàm input() sẽ dùng chương trình và chờ người đăng nhập chuỗi kí tự vào từ bàn phím, đến khi bấm enter\n",
    "#VD\n",
    "name = str(input('xin mời nhập tên:'))\n",
    "print('hello %s' % name)\n",
    "# nhập dữ liêu hàm tổng, và làm tròn giá trị\n",
    "# VD\n",
    "a = int(input('nhập a = '))\n",
    "b = int(input('mời nhập b'))\n",
    "print(\"tổng của a và b là \", a + b)\n",
    "#dữ liệu là số thực \n",
    "c = float(input('mời nhập c'))\n",
    "d = float(input(\"mời nhập d \"))\n",
    "print('hiệu của a và b là : %.2f' %(c - d))\n",
    "\n"
   ]
  },
  {
   "cell_type": "code",
   "execution_count": 50,
   "metadata": {},
   "outputs": [
    {
     "name": "stdout",
     "output_type": "stream",
     "text": [
      "hiệu của a và b là : %.2f -811.0191500000001\n"
     ]
    }
   ],
   "source": [
    "c = float(input('mời nhập c'))\n",
    "d = float(input(\"mời nhập d \"))\n",
    "print('tổng = %.2f '%(c - d))"
   ]
  },
  {
   "cell_type": "code",
   "execution_count": 54,
   "metadata": {},
   "outputs": [
    {
     "name": "stdout",
     "output_type": "stream",
     "text": [
      "tổng của a và b = 14\n",
      "tích của a và b =  100\n"
     ]
    }
   ],
   "source": [
    "a = int(input(\"mời nhập a\"))\n",
    "b = int(input(\"mời nhập\"))\n",
    "print(\"tổng của a và b =\", a+b)\n",
    "print(\"tổng bình phương của a và b = \", (a*a)+(b*b))"
   ]
  },
  {
   "cell_type": "code",
   "execution_count": 60,
   "metadata": {},
   "outputs": [
    {
     "name": "stdout",
     "output_type": "stream",
     "text": [
      "họ và tên:  nguyễn đắc chiến \t\t\tmã sinh viên: 71131101040\n",
      "giới tính: nam \t\t\ttuổi: 24\n",
      "khoa: KTS \t\t\tđiểm trung bình: 7.56\n"
     ]
    }
   ],
   "source": [
    "HVT = str(input(\"họ và tên: \"))\n",
    "T = int(input(\"tuổi: \"))\n",
    "MSV = str(input(\"mã sinh viên: \"))\n",
    "GT= str(input(\"giới tính:\"))\n",
    "K = str(input(\"khoa: \"))\n",
    "DTB = float(input(\"điểm trung bình: \"))\n",
    "print(\"họ và tên: \",HVT,\"\\t\\t\\tmã sinh viên:\",MSV )\n",
    "print(\"giới tính:\",GT,\"\\t\\t\\ttuổi:\",T)\n",
    "print(\"khoa:\",K,\"\\t\\t\\tđiểm trung bình:\",DTB)"
   ]
  },
  {
   "cell_type": "code",
   "execution_count": 94,
   "metadata": {},
   "outputs": [
    {
     "name": "stdout",
     "output_type": "stream",
     "text": [
      "1. Vẻ đẹp Hà Nội về đêm\n",
      "Khi bóng tối trùm xuống thành phố cũng là lúc đèn đường được bật lên. Những con đường ven hồ Tây và quanh những hồ lớn khác bắt đầu chuyển sang một khung cảnh khác khi những ánh sáng hắt xuống mặt nước làm lung linh và huyền ảo hơn. Những khoảng ánh sáng, tối không đều nhau trên đường phố tạo một cảm giác lãng mạn và vô cùng yên bình. Hà Nội về đêm đường phố thông thoáng, không có cảnh tắc đường, chen lấn hay tiếng còi xe ngột ngạt.có tôi ở đócó tôi ở đócó tôi ở đócó tôi ở đócó tôi ở đócó tôi ở đócó tôi ở đócó tôi ở đóhà nội về đêmhà nội về đêmhà nội về đêm hà nội về đêm\n"
     ]
    }
   ],
   "source": [
    "# <Tên tệp> = open(file_path, [mode], [encoding])\n",
    "# file_path: là đường dẫn tới tệp và tên tệp\n",
    "# mode là chế độ mở tệp:\n",
    "#‘r’ : mở tệp chỉ để đọc (mặc định)\n",
    "#‘w’ : mở tệp để ghi dữ liệu, nếu tệp chưa có thì sẽ tạo tệp mới, nếu\n",
    "#tệp đã có thì tất cả dữ liệu của tệp cũ sẽ bị xóa\n",
    "# 'a' : mở tệp để ghi dữ liệu, nếu tệp chưa có thì sẽ tạo tệp mới, nếu\n",
    "#tệp đã có thì sẽ ghi bổ sung dữ liệu vào cuối tệp...\n",
    "#  encoding = “utf-8” : nếu dùng tiếng Việt\n",
    "file = open(\"F:/Học tập/python/baitap.txt\", 'a', encoding='utf-8')\n",
    "file.write(\"\")\n",
    "file.close()\n",
    "\n",
    "file = open(\"F:/Học tập/python/baitap.txt\", 'r', encoding='utf-8')\n",
    "s = file.read()\n",
    "file.close()\n",
    "print(s)"
   ]
  },
  {
   "cell_type": "code",
   "execution_count": 98,
   "metadata": {},
   "outputs": [
    {
     "name": "stdout",
     "output_type": "stream",
     "text": [
      "<built-in method read of _io.TextIOWrapper object at 0x00000282BF59B030>\n"
     ]
    }
   ],
   "source": [
    "file = open(\"F:/học tập/python/12.py\",'r', encoding = 'utf-8')\n",
    "s = file.read\n",
    "print(s)"
   ]
  },
  {
   "cell_type": "code",
   "execution_count": 97,
   "metadata": {},
   "outputs": [
    {
     "name": "stdout",
     "output_type": "stream",
     "text": [
      "mylist = [1,5,6,3,3,5,2]\n",
      "max = mylist[0]\n",
      "indexofmax = 0\n",
      "for i in range(1, len(mylist)) :\n",
      "    if mylist[i] > max :\n",
      "        indexofmax = i\n",
      "print(indexofmax)\n"
     ]
    }
   ],
   "source": [
    "with open('F:/học tập/python/12.py','r') as file:\n",
    "    contents = file.read()\n",
    "    print(contents)"
   ]
  },
  {
   "cell_type": "code",
   "execution_count": 4,
   "metadata": {},
   "outputs": [
    {
     "name": "stdout",
     "output_type": "stream",
     "text": [
      "mylist = [1,5,6,3,3,5,2]\n",
      "max = mylist[0]\n",
      "indexofmax = 0\n",
      "for i in range(1, len(mylist)) :\n",
      "    if mylist[i] > max :\n",
      "        indexofmax = i\n",
      "print(indexofmax)\n"
     ]
    }
   ],
   "source": [
    "with open(\"F:/Học tập/python/12.py\",'r', encoding = \"utf-8\") as nguyenlani:\n",
    "    contents = nguyenlani.read()\n",
    "    print(contents)"
   ]
  },
  {
   "attachments": {},
   "cell_type": "markdown",
   "metadata": {},
   "source": [
    "2. lệnh điều kiện, rẽ nhánh"
   ]
  },
  {
   "cell_type": "code",
   "execution_count": 6,
   "metadata": {},
   "outputs": [
    {
     "ename": "ValueError",
     "evalue": "invalid literal for int() with base 10: 'nguyen dac chien '",
     "output_type": "error",
     "traceback": [
      "\u001b[1;31m---------------------------------------------------------------------------\u001b[0m",
      "\u001b[1;31mValueError\u001b[0m                                Traceback (most recent call last)",
      "Cell \u001b[1;32mIn[6], line 2\u001b[0m\n\u001b[0;32m      1\u001b[0m \u001b[39m#câu lệnh if.. else..\u001b[39;00m\n\u001b[1;32m----> 2\u001b[0m x \u001b[39m=\u001b[39m \u001b[39mint\u001b[39;49m(\u001b[39minput\u001b[39;49m(\u001b[39m\"\u001b[39;49m\u001b[39mmời nhập : \u001b[39;49m\u001b[39m\"\u001b[39;49m))\n\u001b[0;32m      3\u001b[0m \u001b[39mif\u001b[39;00m ( x \u001b[39m%\u001b[39m \u001b[39m2\u001b[39m \u001b[39m==\u001b[39m \u001b[39m0\u001b[39m):\n\u001b[0;32m      4\u001b[0m     \u001b[39mprint\u001b[39m(x\u001b[39m/\u001b[39m\u001b[39m2\u001b[39m)\n",
      "\u001b[1;31mValueError\u001b[0m: invalid literal for int() with base 10: 'nguyen dac chien '"
     ]
    }
   ],
   "source": [
    "#câu lệnh if.. else..\n",
    "x = int(input(\"mời nhập : \"))\n",
    "if ( x % 2 == 0):\n",
    "    print(x/2)"
   ]
  },
  {
   "cell_type": "code",
   "execution_count": 7,
   "metadata": {},
   "outputs": [
    {
     "name": "stdout",
     "output_type": "stream",
     "text": [
      "số chẵn\n"
     ]
    }
   ],
   "source": [
    "n  = int(input(\"mời nhập số :\"))\n",
    "if (n % 2 == 0 ):\n",
    "    print(\"số chẵn\")\n",
    "else:\n",
    "    print(\"số lẻ\")"
   ]
  },
  {
   "cell_type": "code",
   "execution_count": 8,
   "metadata": {},
   "outputs": [
    {
     "name": "stdout",
     "output_type": "stream",
     "text": [
      "a là số âm\n"
     ]
    }
   ],
   "source": [
    "a  = int(input(\"a không âm:\"))\n",
    "if a >= 0:\n",
    "    print(\"a là số dương\")\n",
    "else:\n",
    "    print(\"a là số âm\")"
   ]
  },
  {
   "cell_type": "code",
   "execution_count": 9,
   "metadata": {},
   "outputs": [
    {
     "name": "stdout",
     "output_type": "stream",
     "text": [
      "giá trị lớn nhất là 98\n"
     ]
    }
   ],
   "source": [
    "#bài tập\n",
    "a = int(input(\"mời nhập só a:\"))\n",
    "b = int(input(\"mời nhập số b:\"))\n",
    "max_ab = max(a,b)\n",
    "print(\"giá trị lớn nhất là:\",max_ab)"
   ]
  },
  {
   "cell_type": "code",
   "execution_count": 13,
   "metadata": {},
   "outputs": [
    {
     "name": "stdout",
     "output_type": "stream",
     "text": [
      "phương trình có duy nhất 1 nghiệm -1.0\n"
     ]
    }
   ],
   "source": [
    "a = int(input(\"mời nhập số a \"))\n",
    "b = float(input(\"mời nhập số b \"))\n",
    "if a == 0:\n",
    "    if b == 0:\n",
    "        print(\"phương trình vô số nghiệm\")\n",
    "    else:\n",
    "        print(\"phương trình vô nghiệm\")\n",
    "else:\n",
    "    x = -b/a\n",
    "    print(\"phương trình có duy nhất 1 nghiệm\",x)\n",
    "\n"
   ]
  },
  {
   "cell_type": "code",
   "execution_count": 19,
   "metadata": {},
   "outputs": [
    {
     "ename": "SyntaxError",
     "evalue": "invalid syntax (3828085376.py, line 15)",
     "output_type": "error",
     "traceback": [
      "\u001b[1;36m  Cell \u001b[1;32mIn[19], line 15\u001b[1;36m\u001b[0m\n\u001b[1;33m    elif:\u001b[0m\n\u001b[1;37m        ^\u001b[0m\n\u001b[1;31mSyntaxError\u001b[0m\u001b[1;31m:\u001b[0m invalid syntax\n"
     ]
    }
   ],
   "source": [
    "#bài tập 4 \n",
    "import math\n",
    "a = float(input(\"nhập a:\"))\n",
    "b = float(input(\"nhập b\"))\n",
    "c = float(input(\"mời nhập c\"))\n",
    "if a > 0 and b > 0 and c > 0:\n",
    "    C = a + b + c\n",
    "   5\n"
   ]
  },
  {
   "cell_type": "code",
   "execution_count": 16,
   "metadata": {},
   "outputs": [
    {
     "name": "stdout",
     "output_type": "stream",
     "text": [
      "a, b, c là độ dài 3 cạnh của một tam giác.\n",
      "Chu vi của tam giác là: 15.0\n",
      "Diện tích của tam giác là: 9.921567416492215\n",
      "Tam giác không thuộc bất kỳ loại nào trên.\n"
     ]
    }
   ],
   "source": []
  },
  {
   "cell_type": "code",
   "execution_count": 25,
   "metadata": {},
   "outputs": [
    {
     "name": "stdout",
     "output_type": "stream",
     "text": [
      "giá trị lớn nhất là 568.0\n"
     ]
    }
   ],
   "source": [
    "#ví dụ\n",
    "a = float(input(\"mời nhập số a\"))\n",
    "b = float(input(\"mời nhập số b\"))\n",
    "c = float(input(\"mời nhập số c\"))\n",
    "max_num = max(a,b,c)\n",
    "print('giá trị lớn nhất là', max_num)"
   ]
  },
  {
   "cell_type": "code",
   "execution_count": 31,
   "metadata": {},
   "outputs": [
    {
     "name": "stdout",
     "output_type": "stream",
     "text": [
      "Số nguyên nhỏ nhất không bé hơn n mà là bội số của 19 là: 19\n"
     ]
    }
   ],
   "source": [
    "# Nhập số nguyên dương n\n",
    "n = int(input(\"Nhập số nguyên dương n: \"))\n",
    "\n",
    "# Tìm số nguyên nhỏ nhất không bé hơn n mà là bội số của 19\n",
    "i = 1\n",
    "while True:\n",
    "    if i % 19 == 0 and i >= n:\n",
    "        print(\"Số nguyên nhỏ nhất không bé hơn n mà là bội số của 19 là:\", i)\n",
    "        break\n",
    "    i += 1\n"
   ]
  },
  {
   "attachments": {},
   "cell_type": "markdown",
   "metadata": {},
   "source": [
    "3. kiểu chuỗi, ép kiểu dữ liệu\n"
   ]
  },
  {
   "cell_type": "code",
   "execution_count": 45,
   "metadata": {},
   "outputs": [
    {
     "name": "stdout",
     "output_type": "stream",
     "text": [
      "lani\n"
     ]
    }
   ],
   "source": [
    "strA = 'nguyenlani'\n",
    "strB = strA[]\n",
    "strC = strB in strA\n",
    "print(strB)"
   ]
  },
  {
   "cell_type": "code",
   "execution_count": 50,
   "metadata": {},
   "outputs": [
    {
     "name": "stdout",
     "output_type": "stream",
     "text": [
      "69.0\n"
     ]
    }
   ],
   "source": [
    "strA = float(\"69\")\n",
    "print(strA)"
   ]
  },
  {
   "cell_type": "code",
   "execution_count": 1,
   "metadata": {},
   "outputs": [
    {
     "name": "stdout",
     "output_type": "stream",
     "text": [
      "số lẻ\n"
     ]
    }
   ],
   "source": [
    "n = float(input(\"mời nhập số :\"))\n",
    "if n %2 == 0:\n",
    "    print(\"số chẵn\")\n",
    "else:\n",
    "    print(\"số lẻ\")"
   ]
  },
  {
   "cell_type": "code",
   "execution_count": 7,
   "metadata": {},
   "outputs": [
    {
     "name": "stdout",
     "output_type": "stream",
     "text": [
      "giá trị lớn nhất là: 654.0\n",
      "phương trình có 1 nghiệm duy nhất là: -0.10397553516819572\n"
     ]
    }
   ],
   "source": [
    "# example \n",
    "a = float(input(\"mời nhập a\"))\n",
    "b = float(input(\"mời nhập b\"))\n",
    "max_number = max(a,b)\n",
    "print(\"giá trị lớn nhất là:\",max_number)\n",
    "if a == 0:\n",
    "    if b == 0:\n",
    "        print(\"phương trình có vô số nghiệm\")\n",
    "    else:\n",
    "        print(\"phương trình vô nghiệm\")\n",
    "else:\n",
    "    x = -b/a\n",
    "    print(\"phương trình có 1 nghiệm duy nhất là:\",x)\n"
   ]
  },
  {
   "cell_type": "code",
   "execution_count": 11,
   "metadata": {},
   "outputs": [
    {
     "name": "stdout",
     "output_type": "stream",
     "text": [
      "a, b, c là độ dài 3 cạnh của một tam giác.\n",
      "Chu vi của tam giác là: 15.0\n",
      "Diện tích của tam giác là: 9.921567416492215\n",
      "Tam giác không thuộc bất kỳ loại nào trên.\n"
     ]
    }
   ],
   "source": [
    "import math\n",
    "\n",
    "# Nhập độ dài các cạnh\n",
    "a = float(input(\"Nhập độ dài cạnh a: \"))\n",
    "b = float(input(\"Nhập độ dài cạnh b: \"))\n",
    "c = float(input(\"Nhập độ dài cạnh c: \"))\n",
    "\n",
    "# Kiểm tra a, b, c có là độ dài 3 cạnh của một tam giác không\n",
    "if a + b > c and a + c > b and b + c > a:\n",
    "    # Tính chu vi và diện tích của tam giác\n",
    "    C = a + b + c\n",
    "    p = C / 2\n",
    "    S = math.sqrt(p * (p - a) * (p - b) * (p - c))\n",
    "    print(\"a, b, c là độ dài 3 cạnh của một tam giác.\")\n",
    "    print(\"Chu vi của tam giác là:\", C)\n",
    "    print(\"Diện tích của tam giác là:\", S)\n",
    "\n",
    "    # Kiểm tra tam giác đều\n",
    "    if a == b and b == c:\n",
    "        print(\"Tam giác là tam giác đều.\")\n",
    "\n",
    "    # Kiểm tra tam giác cân\n",
    "    elif a == b or a == c or b == c:\n",
    "        print(\"Tam giác là tam giác cân.\")\n",
    "\n",
    "    # Kiểm tra tam giác vuông\n",
    "    elif a**2 + b**2 == c**2 or a**2 + c**2 == b**2 or b**2 + c**2 == a**2:\n",
    "        print(\"Tam giác là tam giác vuông.\")\n",
    "\n",
    "    else:\n",
    "        print(\"Tam giác không thuộc bất kỳ loại nào trên.\")\n",
    "\n",
    "else:\n",
    "    print(\"a, b, c không phải là độ dài 3 cạnh của một tam giác.\")\n",
    "\n"
   ]
  },
  {
   "cell_type": "code",
   "execution_count": 14,
   "metadata": {},
   "outputs": [
    {
     "name": "stdout",
     "output_type": "stream",
     "text": [
      "python isfantasic\n",
      "python isawesome\n",
      "python isnhoem\n",
      "python ishanoivedem\n"
     ]
    }
   ],
   "source": [
    "# the global keyword:\n",
    "x = \"awesome\"\n",
    "def myfunc():\n",
    "    x = \"fantasic\"\n",
    "    print(\"python is\" + x)\n",
    "myfunc()\n",
    "print(\"python is\" + x)\n",
    "x = \"hanoivedem\"\n",
    "def lani():\n",
    "    x = \"nhoem\"\n",
    "    print(\"python is\"+ x)\n",
    "lani()\n",
    "print(\"python is\" + x)"
   ]
  },
  {
   "cell_type": "code",
   "execution_count": 15,
   "metadata": {},
   "outputs": [
    {
     "name": "stdout",
     "output_type": "stream",
     "text": [
      "python is hanoivedem\n"
     ]
    }
   ],
   "source": [
    "def lani():\n",
    "    global x\n",
    "    x = \"hanoivedem\"\n",
    "lani()\n",
    "print(\"python is \"+ x)"
   ]
  },
  {
   "cell_type": "code",
   "execution_count": 18,
   "metadata": {},
   "outputs": [
    {
     "name": "stdout",
     "output_type": "stream",
     "text": [
      "1\n",
      "three\n",
      "4.0\n",
      "4\n"
     ]
    }
   ],
   "source": [
    "# Khai báo Tuple\n",
    "tup = (1, 2, \"three\", 4.0)\n",
    "\n",
    "# Truy cập phần tử trong Tuple\n",
    "print(tup[0])   # Output: 1\n",
    "print(tup[2])   # Output: three\n",
    "print(tup[3])\n",
    "\n",
    "# Tuple không thể thay đổi giá trị\n",
    "# Lấy độ dài của Tuple\n",
    "print(len(tup)) # Output: 4\n"
   ]
  },
  {
   "attachments": {},
   "cell_type": "markdown",
   "metadata": {},
   "source": [
    "#setting the data type"
   ]
  },
  {
   "cell_type": "code",
   "execution_count": 36,
   "metadata": {},
   "outputs": [
    {
     "name": "stdout",
     "output_type": "stream",
     "text": [
      "<class 'str'>\n",
      "<class 'int'>\n",
      "<class 'float'>\n",
      "<class 'complex'>\n",
      "<class 'list'>\n",
      "<class 'tuple'>\n",
      "<class 'range'>\n",
      "{'age', 'john', 36, 'name'}\n",
      "<class 'set'>\n",
      "{'apple', 'cherry', 'banana'}\n",
      "<class 'bool'>\n",
      "<class 'bytes'>\n",
      "bytearray(b'\\x00\\x00\\x00\\x00\\x00')\n",
      "None\n",
      "<class 'NoneType'>\n"
     ]
    }
   ],
   "source": [
    "x = \"hello world\"\n",
    "print(type(x))\n",
    "x = 20\n",
    "print(type(x))\n",
    "x = 20.5\n",
    "print(type(x))\n",
    "x = 1j\n",
    "print(type(x))\n",
    "x = [\"apple\" , \"banana\" , \"cherry\"]\n",
    "print(type(x))\n",
    "x = (\"apple\" , \"banana\", \"cherry\")\n",
    "print(type(x))\n",
    "x = range(6)\n",
    "print(type(x))\n",
    "x = {\"name\", \"john\", \"age\", 36}\n",
    "print(x)\n",
    "x = {\"apple\" , \"banana\", \"cherry\"}\n",
    "print(type(x))\n",
    "print(x)\n",
    "x = frozenset({\"apple\", \"banana\", \"cherry\"})\n",
    "x = True\n",
    "print(type(x))\n",
    "x = b\"hello\"\n",
    "print(type(x))\n",
    "x = bytearray(5)\n",
    "print(x)\n",
    "x = memoryview(bytes(5))\n",
    "x = None\n",
    "print(x)\n",
    "print(type(x))"
   ]
  },
  {
   "cell_type": "code",
   "execution_count": 43,
   "metadata": {},
   "outputs": [
    {
     "name": "stdout",
     "output_type": "stream",
     "text": [
      "số giá trị lớn nhất là 98\n",
      "giá trị lớn nhất là 65465\n"
     ]
    }
   ],
   "source": [
    "# ví dụ\n",
    "a = int(input(\"type a\"))\n",
    "c = int(input(\"type b\"))\n",
    "b = int(input(\"type b\"))\n",
    "\n",
    "if a >= b and b >= c:\n",
    "    print(\"số giá trị lớn nhất là \",a )\n",
    "elif b >= a and b >= c:\n",
    "    print(\"số giá trị lớn nhất là\",b)\n",
    "else:\n",
    "    print(\"số giá trị lớn nhất là\",c)\n"
   ]
  },
  {
   "cell_type": "code",
   "execution_count": 44,
   "metadata": {},
   "outputs": [
    {
     "name": "stdout",
     "output_type": "stream",
     "text": [
      "giá trị lớn nhất là : 459\n"
     ]
    }
   ],
   "source": [
    "a = int(input(\"type a\"))\n",
    "c = int(input(\"type b\"))\n",
    "b = int(input(\"type b\"))\n",
    "max_value = max(a,b,c)\n",
    "print(\"giá trị lớn nhất là :\", max_value)"
   ]
  },
  {
   "cell_type": "code",
   "execution_count": 54,
   "metadata": {},
   "outputs": [
    {
     "name": "stdout",
     "output_type": "stream",
     "text": [
      "học sinh đó xếp loại khá\n"
     ]
    }
   ],
   "source": [
    "#ví dụ 3.10\n",
    "dtb = float(input(\"điểm trung bình của học sinh đó là:\"))\n",
    "if dtb >= 8 and dtb <= 10 :\n",
    "    print(\"học sinh đó xếp loại giỏi\")\n",
    "elif dtb >= 7 and dtb < 8:\n",
    "    print(\"học sinh đó xếp loại khá\")\n",
    "elif dtb >= 5 and dtb < 7:\n",
    "    print(\"học sinh đó xếp loại trung bình \")\n",
    "else:\n",
    "    print(\"học sinh đó xếp loại yếu\")"
   ]
  },
  {
   "cell_type": "code",
   "execution_count": 55,
   "metadata": {},
   "outputs": [
    {
     "name": "stdout",
     "output_type": "stream",
     "text": [
      "dict1: {'Upper Case': 38, 'Lower Case': 33, 'Digits': 15, 'Spaces': 1, 'Special Characters': 13}\n",
      "dict2: {'Max': 38, 'Min': 1, 'Avg': 20.0}\n"
     ]
    }
   ],
   "source": [
    "import random\n",
    "\n",
    "# Tạo chuỗi 100 ký tự ngẫu nhiên\n",
    "s = ''.join(random.choices(\n",
    "    'abcdefghijklmnopqrstuvwxyzABCDEFGHIJKLMNOPQRSTUVWXYZ0123456789 !@#$%^&*()', k=100))\n",
    "\n",
    "# Khởi tạo dict1 và đếm ký tự theo loại\n",
    "dict1 = {'Upper Case': 0, 'Lower Case': 0, 'Digits': 0, 'Spaces': 0, 'Special Characters': 0}\n",
    "for char in s:\n",
    "    if char.isupper():\n",
    "        dict1['Upper Case'] += 1\n",
    "    elif char.islower():\n",
    "        dict1['Lower Case'] += 1\n",
    "    elif char.isdigit():\n",
    "        dict1['Digits'] += 1\n",
    "    elif char.isspace():\n",
    "        dict1['Spaces'] += 1\n",
    "    else:\n",
    "        dict1['Special Characters'] += 1\n",
    "\n",
    "# Tạo dict2 và tính số lượng tối đa, tối thiểu, trung bình của dict1\n",
    "dict2 = {'Max': max(dict1.values()), 'Min': min(dict1.values()), 'Avg': sum(dict1.values()) / len(dict1)}\n",
    "\n",
    "# In dict1 và dict2\n",
    "print('dict1:', dict1)\n",
    "print('dict2:', dict2)"
   ]
  },
  {
   "cell_type": "code",
   "execution_count": 64,
   "metadata": {},
   "outputs": [
    {
     "name": "stdout",
     "output_type": "stream",
     "text": [
      "38\n"
     ]
    }
   ],
   "source": [
    "n = int(input(\"mời nhập số nguyên duong\"))\n",
    "m = n\n",
    "while m %19 != 0:\n",
    "    n = m + 1\n",
    "    break\n",
    "print(m)"
   ]
  },
  {
   "cell_type": "code",
   "execution_count": 68,
   "metadata": {},
   "outputs": [
    {
     "name": "stdout",
     "output_type": "stream",
     "text": [
      "yêu cầu nhập lại\n",
      "yêu cầu nhập lại\n",
      "bạn đã nhập thành công\n"
     ]
    }
   ],
   "source": [
    "n = int(input(\"mời nhập n\"))\n",
    "while (n < 100) or ( n >= 1000):\n",
    "        print(\"yêu cầu nhập lại\")\n",
    "        n = int(input(\"nhập số lẻ n = \"))\n",
    "print(\"bạn đã nhập thành công\")"
   ]
  },
  {
   "cell_type": "code",
   "execution_count": 72,
   "metadata": {},
   "outputs": [
    {
     "name": "stdout",
     "output_type": "stream",
     "text": [
      "Tổng bình phương các số lẻ từ 1 đến 21 là: 1771\n"
     ]
    }
   ],
   "source": [
    "# Nhập vào một số nguyên dương lẻ n\n",
    "n = int(input(\"Nhập một số nguyên dương lẻ n: \"))\n",
    "\n",
    "# Khởi tạo biến tổng\n",
    "total = 0\n",
    "\n",
    "# Lặp qua các số lẻ từ 1 đến n và tính tổng bình phương của chúng\n",
    "for i in range(1, n+1, 2):\n",
    "    total += i**2\n",
    "\n",
    "# Hiển thị tổng bình phương các số lẻ từ 1 đến n\n",
    "print(\"Tổng bình phương các số lẻ từ 1 đến\", n, \"là:\", total)"
   ]
  },
  {
   "cell_type": "code",
   "execution_count": 78,
   "metadata": {},
   "outputs": [
    {
     "name": "stdout",
     "output_type": "stream",
     "text": [
      "0\n",
      "1\n",
      "2\n",
      "3\n",
      "4\n",
      "5\n",
      "6\n",
      "7\n",
      "8\n",
      "9\n"
     ]
    }
   ],
   "source": [
    "for  i in range(10):\n",
    "    print(i)\n"
   ]
  },
  {
   "cell_type": "code",
   "execution_count": 93,
   "metadata": {},
   "outputs": [
    {
     "name": "stdout",
     "output_type": "stream",
     "text": [
      "45 46 47 48 49 50 51 52 53 54 55 56 57 58 59 60 61 62 63 64 65 66 67 68 69 70 71 72 73 74 75 76 77 78 79 80 81 82 83 84 85 86 87 88 89 90 91 92 93 94 95 96 97 98 "
     ]
    }
   ],
   "source": [
    "a = int(input(\"a = \"))\n",
    "b = int(input(\"b = \"))\n",
    "for i in range(a, b+ 1):\n",
    "    print(i , end = \" \")"
   ]
  },
  {
   "cell_type": "code",
   "execution_count": 103,
   "metadata": {},
   "outputs": [
    {
     "name": "stdout",
     "output_type": "stream",
     "text": [
      "75 73 71 69 67 65 63 "
     ]
    }
   ],
   "source": [
    "#ví dụ\n",
    "for i in range(75,61,-1):\n",
    "    if i % 2 == 1:\n",
    "        print(i,end =\" \")"
   ]
  },
  {
   "cell_type": "code",
   "execution_count": 111,
   "metadata": {},
   "outputs": [
    {
     "name": "stdout",
     "output_type": "stream",
     "text": [
      "số đó là 901\n"
     ]
    }
   ],
   "source": [
    "for i in range(1000,100,-1):\n",
    "    if i % 53 == 0 and i % 3 != 0:\n",
    "        print(\"số đó là\",i)\n",
    "        break\n",
    "        "
   ]
  },
  {
   "cell_type": "code",
   "execution_count": 124,
   "metadata": {},
   "outputs": [
    {
     "name": "stdout",
     "output_type": "stream",
     "text": [
      "* \n",
      "* * \n",
      "* * * \n",
      "* * * * \n",
      "* * * * * \n",
      "kết thúc\n"
     ]
    }
   ],
   "source": [
    "#vd 3.22\n",
    "n = int(input(\"mời nhập số\"))\n",
    "for k in range(1,n+1):\n",
    "    for i in range(k):\n",
    "        print(\"*\", end = \" \")\n",
    "    print()\n",
    "print(\"kết thúc\")"
   ]
  },
  {
   "cell_type": "code",
   "execution_count": 139,
   "metadata": {},
   "outputs": [],
   "source": [
    "#Thêm thư viện và hàm cần thiết\n",
    "from tkinter import *\n",
    "from tkinter.ttk import *\n",
    "\n",
    "root = Tk()\n",
    "root.title('nguyenlani')\n",
    "def nguyenlani(s):\n",
    "    s1 = s[1:len(s)]\n",
    "    s2 = s[0:1]\n",
    "    string = s1 + s2\n",
    "    label.config(text = string)\n",
    "    label.after(100,nguyenlani,string)\n",
    "\n",
    "label = Label(root, font = ('Time New Roman',100))\n",
    "label.pack(anchor = 'center')\n",
    "\n",
    "string = \"welcome lani\" + '      '\n",
    "\n",
    "#Gọi hàm chạy chữ\n",
    "nguyenlani(string)\n",
    "\n",
    "#Hiển thị cửa sổ liên tục\n",
    "root.mainloop()"
   ]
  },
  {
   "cell_type": "code",
   "execution_count": 134,
   "metadata": {},
   "outputs": [
    {
     "name": "stdout",
     "output_type": "stream",
     "text": [
      "tổng bình phương của các số từ 1 đến 80 là 173880\n"
     ]
    }
   ],
   "source": [
    "n = int(input(\"mời nhập số nguyên dương n\"))\n",
    "total = 0\n",
    "for i in range(1, n + 1,):\n",
    "    total += i**2\n",
    "print(\"tổng bình phương của các số từ 1 đến\", i,\"là\" ,total)"
   ]
  },
  {
   "cell_type": "code",
   "execution_count": 142,
   "metadata": {},
   "outputs": [
    {
     "name": "stdout",
     "output_type": "stream",
     "text": [
      "tổng bình phương của các số từ 1 đến 79 là 85320\n"
     ]
    }
   ],
   "source": [
    "n = int(input(\"mời nhập số nguyên dương n\"))\n",
    "total = 0\n",
    "for i in range(1, n + 1,2):\n",
    "    total += i**2\n",
    "print(\"tổng bình phương của các số từ 1 đến\", i,\"là\" ,total)"
   ]
  },
  {
   "cell_type": "code",
   "execution_count": 157,
   "metadata": {},
   "outputs": [
    {
     "name": "stdout",
     "output_type": "stream",
     "text": [
      "!n = 1 !n = 2 !n = 6 !n = 24 !n = 120 "
     ]
    }
   ],
   "source": [
    "n = int(input(\"mời nhập số nguyên dương n\"))\n",
    "if n < 20:\n",
    "       total = 1\n",
    "       for i in range(1, n+1):\n",
    "           total *= i\n",
    "           print(\"!n =\", total, end = \" \")\n",
    "else:\n",
    "    print(\"n phải nhỏ hơn 20 để tính n\")"
   ]
  },
  {
   "cell_type": "code",
   "execution_count": 162,
   "metadata": {},
   "outputs": [
    {
     "name": "stdout",
     "output_type": "stream",
     "text": [
      "bộ nghiệm = 2 24\n",
      "bộ nghiệm = 4 23\n",
      "bộ nghiệm = 6 22\n",
      "bộ nghiệm = 8 21\n",
      "bộ nghiệm = 10 20\n",
      "bộ nghiệm = 12 19\n",
      "bộ nghiệm = 14 18\n",
      "bộ nghiệm = 16 17\n",
      "bộ nghiệm = 18 16\n",
      "bộ nghiệm = 20 15\n",
      "bộ nghiệm = 22 14\n",
      "bộ nghiệm = 24 13\n",
      "bộ nghiệm = 26 12\n",
      "bộ nghiệm = 28 11\n",
      "bộ nghiệm = 30 10\n",
      "bộ nghiệm = 32 9\n",
      "bộ nghiệm = 34 8\n",
      "bộ nghiệm = 36 7\n",
      "bộ nghiệm = 38 6\n",
      "bộ nghiệm = 40 5\n",
      "bộ nghiệm = 42 4\n",
      "bộ nghiệm = 44 3\n",
      "bộ nghiệm = 46 2\n",
      "bộ nghiệm = 48 1\n"
     ]
    }
   ],
   "source": [
    "for x in range(1,50):\n",
    "    for y in range(1,50):\n",
    "        if x + 2*y == 50:\n",
    "            print(\"bộ nghiệm =\",x, y)"
   ]
  },
  {
   "cell_type": "code",
   "execution_count": 164,
   "metadata": {},
   "outputs": [
    {
     "name": "stdout",
     "output_type": "stream",
     "text": [
      "bộ nghiệm =  1 2 8\n",
      "bộ nghiệm =  1 6 5\n",
      "bộ nghiệm =  1 10 2\n",
      "bộ nghiệm =  2 4 6\n",
      "bộ nghiệm =  2 8 3\n",
      "bộ nghiệm =  3 2 7\n",
      "bộ nghiệm =  3 6 4\n",
      "bộ nghiệm =  3 10 1\n",
      "bộ nghiệm =  4 4 5\n",
      "bộ nghiệm =  4 8 2\n",
      "bộ nghiệm =  5 2 6\n",
      "bộ nghiệm =  5 6 3\n",
      "bộ nghiệm =  6 4 4\n",
      "bộ nghiệm =  6 8 1\n",
      "bộ nghiệm =  7 2 5\n",
      "bộ nghiệm =  7 6 2\n",
      "bộ nghiệm =  8 4 3\n",
      "bộ nghiệm =  9 2 4\n",
      "bộ nghiệm =  9 6 1\n",
      "bộ nghiệm =  10 4 2\n",
      "bộ nghiệm =  11 2 3\n",
      "bộ nghiệm =  12 4 1\n",
      "bộ nghiệm =  13 2 2\n",
      "bộ nghiệm =  15 2 1\n"
     ]
    }
   ],
   "source": [
    "for x in range(1,40):\n",
    "    for y in range(1,40):\n",
    "        for z in range(1,40):\n",
    "            if 2*x + 3*y + 4*z == 40:\n",
    "                print(\"bộ nghiệm = \",x, y,z)"
   ]
  },
  {
   "attachments": {},
   "cell_type": "markdown",
   "metadata": {},
   "source": [
    "xây dựng hàm "
   ]
  },
  {
   "cell_type": "code",
   "execution_count": 169,
   "metadata": {},
   "outputs": [
    {
     "name": "stdout",
     "output_type": "stream",
     "text": [
      "xin chào các bạn đến với lớp lập trình python\n"
     ]
    }
   ],
   "source": [
    "def helloPython():\n",
    "    for i in range(1):\n",
    "        print(\"xin chào các bạn đến với lớp lập trình python\")\n",
    "helloPython()"
   ]
  },
  {
   "cell_type": "code",
   "execution_count": 170,
   "metadata": {},
   "outputs": [
    {
     "name": "stdout",
     "output_type": "stream",
     "text": [
      "sdfhahfuiwhf\n",
      "sdfhahfuiwhf\n",
      "sdfhahfuiwhf\n",
      "sdfhahfuiwhf\n",
      "sdfhahfuiwhf\n",
      "sdfhahfuiwhf\n",
      "sdfhahfuiwhf\n",
      "sdfhahfuiwhf\n"
     ]
    }
   ],
   "source": [
    "#ví dụ\n",
    "def nguyenlani(xau,k):\n",
    "    for i in range(k):\n",
    "        print(xau)\n",
    "S = str(input(\"mời nhập kí tự\"))\n",
    "n = int(input(\"nhập số lần hiển thị\"))\n",
    "nguyenlani(S,n)\n"
   ]
  },
  {
   "cell_type": "code",
   "execution_count": 173,
   "metadata": {},
   "outputs": [
    {
     "name": "stdout",
     "output_type": "stream",
     "text": [
      "hàm tổng bình phương của 2 số là 145\n",
      "tổng bình phương  =  41\n"
     ]
    }
   ],
   "source": [
    "def nguyenlani(x,y):\n",
    "    return x*x + y*y\n",
    "S = nguyenlani(8,9)\n",
    "print(\"hàm tổng bình phương của 2 số là\",S)\n",
    "a = int(input(\"nhập a = \"))\n",
    "b = int(input(\"nhập b = \"))\n",
    "print(\"tổng bình phương  = \",nguyenlani(a,b))"
   ]
  },
  {
   "cell_type": "code",
   "execution_count": 179,
   "metadata": {},
   "outputs": [
    {
     "name": "stdout",
     "output_type": "stream",
     "text": [
      "bắt đầu: a1 = 6 a2 = 8\n",
      "sau khi dảo giá trị : a1 =  8 a2 =  6\n"
     ]
    }
   ],
   "source": [
    "def doichoi(a,b):\n",
    "    return b , a\n",
    "a1 = 6\n",
    "a2 = 8\n",
    "print(\"bắt đầu: a1 =\", a1, \"a2 =\", a2)\n",
    "a1,a2 = doichoi(a1,a2)\n",
    "print(\"sau khi dảo giá trị : a1 = \" ,a1,\"a2 = \", a2)\n",
    "a1,a2 = doichoi(a2,a1)"
   ]
  },
  {
   "cell_type": "code",
   "execution_count": 180,
   "metadata": {},
   "outputs": [
    {
     "name": "stdout",
     "output_type": "stream",
     "text": [
      "8,6\n",
      "3,5\n"
     ]
    }
   ],
   "source": [
    "a = (\"8,6\\n3,5\")\n",
    "print(a)"
   ]
  },
  {
   "cell_type": "code",
   "execution_count": 185,
   "metadata": {},
   "outputs": [
    {
     "name": "stdout",
     "output_type": "stream",
     "text": [
      "[8, 6, 3, 5]\n"
     ]
    }
   ],
   "source": [
    "mylist=[8,6,3,5]\n",
    "print(mylist, end = \"\\n\")"
   ]
  },
  {
   "cell_type": "code",
   "execution_count": 186,
   "metadata": {},
   "outputs": [
    {
     "name": "stdout",
     "output_type": "stream",
     "text": [
      "yes, apple is a fruit\n"
     ]
    }
   ],
   "source": [
    "fruits = [\"apple\" , \"banana\"]\n",
    "if \"apple\" in fruits:\n",
    "    print(\"yes, apple is a fruit\")"
   ]
  },
  {
   "cell_type": "code",
   "execution_count": 4,
   "metadata": {},
   "outputs": [
    {
     "ename": "NameError",
     "evalue": "name 'n' is not defined",
     "output_type": "error",
     "traceback": [
      "\u001b[1;31m---------------------------------------------------------------------------\u001b[0m",
      "\u001b[1;31mNameError\u001b[0m                                 Traceback (most recent call last)",
      "Cell \u001b[1;32mIn[4], line 1\u001b[0m\n\u001b[1;32m----> 1\u001b[0m \u001b[39mfor\u001b[39;00m n \u001b[39min\u001b[39;00m \u001b[39mrange\u001b[39m(\u001b[39m1\u001b[39m,n\u001b[39m+\u001b[39m\u001b[39m1\u001b[39m):\n\u001b[0;32m      2\u001b[0m     total \u001b[39m=\u001b[39m \u001b[39m1\u001b[39m\n\u001b[0;32m      3\u001b[0m     \u001b[39mif\u001b[39;00m n \u001b[39m>\u001b[39m \u001b[39m0\u001b[39m :\n",
      "\u001b[1;31mNameError\u001b[0m: name 'n' is not defined"
     ]
    }
   ],
   "source": []
  },
  {
   "cell_type": "code",
   "execution_count": 6,
   "metadata": {},
   "outputs": [
    {
     "name": "stdout",
     "output_type": "stream",
     "text": [
      "my name is john, and i am 36\n"
     ]
    }
   ],
   "source": [
    "age  = 36 \n",
    "txt = \"my name is john, and i am {}\"\n",
    "print(txt.format(age))"
   ]
  },
  {
   "cell_type": "code",
   "execution_count": 15,
   "metadata": {},
   "outputs": [
    {
     "name": "stdout",
     "output_type": "stream",
     "text": [
      "['apple', 'cherry']\n",
      "apple\n"
     ]
    }
   ],
   "source": [
    "fruits = [\"apple\", \"banana\", \"cherry\"]\n",
    "fruits.remove(\"banana\")\n",
    "print(fruits)\n",
    "\n",
    "fruits = [\"apple\", \"banana\", \"cherry\"]\n",
    "print(fruits)\n"
   ]
  },
  {
   "cell_type": "code",
   "execution_count": 16,
   "metadata": {},
   "outputs": [
    {
     "name": "stdout",
     "output_type": "stream",
     "text": [
      "3\n"
     ]
    }
   ],
   "source": [
    "fruits = [\"apple\", \"banana\", \"cherry\"]\n",
    "print(len(fruits))"
   ]
  },
  {
   "cell_type": "code",
   "execution_count": 18,
   "metadata": {},
   "outputs": [
    {
     "data": {
      "text/plain": [
       "'HÀ NỘI VỀ ĐÊM'"
      ]
     },
     "execution_count": 18,
     "metadata": {},
     "output_type": "execute_result"
    }
   ],
   "source": [
    "lani = \"hà nội về đêm\"\n",
    "lani.upper()"
   ]
  },
  {
   "cell_type": "code",
   "execution_count": 31,
   "metadata": {},
   "outputs": [
    {
     "name": "stdout",
     "output_type": "stream",
     "text": [
      "số lớn nhất có 3 chữ số là:  901\n"
     ]
    }
   ],
   "source": [
    "#vd 3.21\n",
    "for i in range(1000,100,-1):\n",
    "    if i %53 == 0 and i % 3 == 1:\n",
    "        print(\"số lớn nhất có 3 chữ số là: \",i)\n",
    "        break"
   ]
  },
  {
   "cell_type": "code",
   "execution_count": 37,
   "metadata": {},
   "outputs": [
    {
     "name": "stdout",
     "output_type": "stream",
     "text": [
      "* \n",
      "* * \n",
      "* * * \n",
      "* * * * \n",
      "* * * * * \n",
      "kết thúc\n"
     ]
    }
   ],
   "source": [
    "n = int(input(\"nhập n = \"))\n",
    "for k in range(1,n+1):\n",
    "    for i in range(k):\n",
    "        print(\"*\", end = \" \")\n",
    "    print()\n",
    "print(\"kết thúc\")\n"
   ]
  },
  {
   "cell_type": "code",
   "execution_count": 40,
   "metadata": {},
   "outputs": [
    {
     "name": "stdout",
     "output_type": "stream",
     "text": [
      "5 1\n",
      "5 33\n",
      "5 276\n",
      "5 1300\n",
      "5 4425\n"
     ]
    }
   ],
   "source": [
    "n = int(input(\"nhập n\"))\n",
    "total = 0\n",
    "for i in range(1,n+1):\n",
    "    total += i**n \n",
    "    print(n, total)\n"
   ]
  },
  {
   "cell_type": "code",
   "execution_count": 42,
   "metadata": {},
   "outputs": [
    {
     "name": "stdout",
     "output_type": "stream",
     "text": [
      "4 1\n",
      "4 81\n"
     ]
    }
   ],
   "source": [
    "n = int(input(\"nhập n\"))\n",
    "for i in range(1,n+1):\n",
    "    total = 0\n",
    "    total += i**2 \n",
    "    print(n, total)"
   ]
  },
  {
   "cell_type": "code",
   "execution_count": 45,
   "metadata": {},
   "outputs": [
    {
     "name": "stdout",
     "output_type": "stream",
     "text": [
      "81\n"
     ]
    }
   ],
   "source": [
    "def sum_of_squares(n):\n",
    "    total = 0\n",
    "    for i in range(1, n+1):\n",
    "        total += i**2\n",
    "    return total\n",
    "print(total)"
   ]
  },
  {
   "cell_type": "code",
   "execution_count": 68,
   "metadata": {},
   "outputs": [
    {
     "name": "stdout",
     "output_type": "stream",
     "text": [
      "0! = 1\n",
      "nếu n =  5 thì n! =  120\n"
     ]
    }
   ],
   "source": [
    "n = int(input(\"mời nhập n\"))\n",
    "if n  <0:\n",
    "    print(\"không tính được n\")\n",
    "elif n == 0:\n",
    "    print(\"0! = 1\")\n",
    "elif n <20:\n",
    "    print(\"0! = 1\")\n",
    "    total = 1\n",
    "    for i in range(1,n+1):\n",
    "        total *= i\n",
    "    print(\"nếu n = \",n, \"thì n! = \",total)\n",
    "else:\n",
    "    print(n,\"lớn hơn nên không phù hợp \")\n",
    "\n"
   ]
  },
  {
   "cell_type": "code",
   "execution_count": 71,
   "metadata": {},
   "outputs": [
    {
     "name": "stdout",
     "output_type": "stream",
     "text": [
      "4\n",
      "4\n",
      "4\n",
      "4\n",
      "4\n"
     ]
    }
   ],
   "source": [
    "def tbp(x,y):\n",
    "    for i in range(k):\n",
    "        print(x)\n",
    "S = input(\"nhập xâu ký tự\")\n",
    "n = int(input(\"nhập số lần hiển thị\"))\n",
    "tbp(S,n)"
   ]
  },
  {
   "cell_type": "code",
   "execution_count": 74,
   "metadata": {},
   "outputs": [
    {
     "name": "stdout",
     "output_type": "stream",
     "text": [
      "tổng bình phương của 8 và 9 là 145\n",
      "tổng bình phương  =  106\n"
     ]
    }
   ],
   "source": [
    "def tbp(x,y ):\n",
    "    return x*x  +y*y\n",
    "S = tbp(8,9)\n",
    "print(\"tổng bình phương của 8 và 9 là\",S)\n",
    "a = int(input(\"mời nhập a\"))\n",
    "b = int(input(\"mời nhập b\"))\n",
    "print(\"tổng bình phương  = \",tbp(a,b))"
   ]
  },
  {
   "cell_type": "code",
   "execution_count": 76,
   "metadata": {},
   "outputs": [
    {
     "name": "stdout",
     "output_type": "stream",
     "text": [
      "f(a,b,c) 14\n"
     ]
    }
   ],
   "source": [
    "def f(a,b,c):\n",
    "    return a*a + 2*b + c\n",
    "print(\"f(a,b,c)\",f(a = 2, b = 3,c = 4))"
   ]
  },
  {
   "cell_type": "code",
   "execution_count": 78,
   "metadata": {},
   "outputs": [
    {
     "name": "stdout",
     "output_type": "stream",
     "text": [
      "bán kinh hình tròn mặc định là  0.0\n",
      "bán kính hình tròn bằng 5 thì s là 78.5\n"
     ]
    }
   ],
   "source": [
    "def dtht(r= 0):\n",
    "    return 3.14*r*r\n",
    "print(\"bán kinh hình tròn mặc định là \",dtht())\n",
    "print(\"bán kính hình tròn bằng 5 thì s là\",dtht(5))"
   ]
  },
  {
   "cell_type": "code",
   "execution_count": 9,
   "metadata": {},
   "outputs": [
    {
     "name": "stdout",
     "output_type": "stream",
     "text": [
      "(0, 2, 4, 6, 8)\n"
     ]
    }
   ],
   "source": [
    "tup = (i for i in range(10) if i % 2 == 0)\n",
    "a = tuple(tup)\n",
    "print(a)"
   ]
  },
  {
   "cell_type": "code",
   "execution_count": 25,
   "metadata": {},
   "outputs": [
    {
     "name": "stdout",
     "output_type": "stream",
     "text": [
      "0\n"
     ]
    }
   ],
   "source": [
    "tup = [1,5,9]\n",
    "a  = tup.index(1) \n",
    "print(a)"
   ]
  }
 ],
 "metadata": {
  "kernelspec": {
   "display_name": "Python 3",
   "language": "python",
   "name": "python3"
  },
  "language_info": {
   "codemirror_mode": {
    "name": "ipython",
    "version": 3
   },
   "file_extension": ".py",
   "mimetype": "text/x-python",
   "name": "python",
   "nbconvert_exporter": "python",
   "pygments_lexer": "ipython3",
   "version": "3.10.9"
  },
  "orig_nbformat": 4
 },
 "nbformat": 4,
 "nbformat_minor": 2
}
